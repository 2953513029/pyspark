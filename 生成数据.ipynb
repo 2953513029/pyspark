{
 "cells": [
  {
   "cell_type": "code",
   "execution_count": null,
   "id": "c538d3cf",
   "metadata": {},
   "outputs": [],
   "source": [
    "import pandas as pd\n",
    "import random\n",
    "from datetime import datetime, timedelta\n",
    "\n",
    "cities = ['北京', '上海', '广州', '深圳', '成都', '重庆', '杭州', '南京', '西安', '武汉', '长沙', '天津', '苏州']\n",
    "languages = ['Java', 'Python', 'C++', 'JavaScript', 'Go', 'Rust', 'TypeScript', 'Swift', 'Kotlin', 'PHP', 'Ruby']\n",
    "genders = ['male', 'female']\n",
    "start_date = datetime(2021, 9, 1)\n",
    "\n",
    "# 生成1000行数据\n",
    "data = []\n",
    "for i in range(1000):\n",
    "    date = (start_date + timedelta(days=random.randint(0, 60))).strftime('%Y-%m-%d')\n",
    "    city = random.choice(cities)\n",
    "    gender = random.choice(genders)\n",
    "    age = random.randint(18, 45)\n",
    "    lang = random.choice(languages)\n",
    "    \n",
    "    # 生成中文名\n",
    "    last_names = ['张','王','李','赵','刘','陈','杨','黄','周','吴']\n",
    "    first_names_m = ['伟','强','磊','军','洋','勇','峰','超','明','涛']\n",
    "    first_names_f = ['芳','娜','敏','静','丽','娟','艳','玲','婷','慧']\n",
    "    \n",
    "    if gender == 'male':\n",
    "        name = random.choice(last_names) + random.choice(first_names_m)\n",
    "    else:\n",
    "        name = random.choice(last_names) + random.choice(first_names_f)\n",
    "    \n",
    "    data.append([date, city, name, gender, age, lang])\n",
    "\n",
    "# 创建DataFrame并保存\n",
    "df = pd.DataFrame(data, columns=['日期','城市','姓名','性别','年龄','编程语言'])\n",
    "df.to_csv('用户访问日志文件部分数据.csv', index=False)"
   ]
  }
 ],
 "metadata": {
  "kernelspec": {
   "display_name": "pyspark",
   "language": "python",
   "name": "python3"
  },
  "language_info": {
   "codemirror_mode": {
    "name": "ipython",
    "version": 3
   },
   "file_extension": ".py",
   "mimetype": "text/x-python",
   "name": "python",
   "nbconvert_exporter": "python",
   "pygments_lexer": "ipython3",
   "version": "3.11.11"
  }
 },
 "nbformat": 4,
 "nbformat_minor": 5
}
