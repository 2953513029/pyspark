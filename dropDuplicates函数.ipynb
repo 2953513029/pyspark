{
 "cells": [
  {
   "cell_type": "code",
   "execution_count": null,
   "id": "08c2dab3",
   "metadata": {
    "vscode": {
     "languageId": "plaintext"
    }
   },
   "outputs": [],
   "source": [
    "#dropDuplicates是PySpark DataFrame API中的一个重要函数，用于处理数据中的重复项#\n",
    "df.dropDuplicates()\n",
    "#用dropDuplicates函数去重，用select单独列出城市一列，从而实现筛选出学习编程语言的人出自哪些城市#\n",
    "df.dropDuplicates(['_c5']).select('_c1').show()"
   ]
  }
 ],
 "metadata": {
  "language_info": {
   "name": "python"
  }
 },
 "nbformat": 4,
 "nbformat_minor": 5
}
