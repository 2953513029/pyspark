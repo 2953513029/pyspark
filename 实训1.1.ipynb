{
 "cells": [
  {
   "cell_type": "markdown",
   "id": "e6585608",
   "metadata": {},
   "source": [
    "# 冉瑞淮"
   ]
  },
  {
   "cell_type": "code",
   "execution_count": 3,
   "id": "d9332111",
   "metadata": {},
   "outputs": [],
   "source": [
    "from pyspark import SparkContext\n",
    "from pyspark import SparkConf\n",
    "from pyspark.sql.session import SparkSession\n",
    "from pyspark.sql import SparkSession\n",
    "from pyspark.sql import Row\n",
    "from pyspark.sql import column\n",
    "#添加注释#\n",
    "conf=SparkConf().setAppName(\"test\").setMaster(\"local[*]\")\n",
    "sc=SparkContext.getOrCreate(conf)\n",
    "spark=SparkSession(sc)"
   ]
  },
  {
   "cell_type": "markdown",
   "id": "82eb6dbc",
   "metadata": {},
   "source": [
    "# 陶博"
   ]
  },
  {
   "cell_type": "code",
   "execution_count": 4,
   "id": "268a7e5c",
   "metadata": {},
   "outputs": [
    {
     "name": "stdout",
     "output_type": "stream",
     "text": [
      "+--------+----+--------+------+----+----------+\n",
      "|     _c0| _c1|     _c2|   _c3| _c4|       _c5|\n",
      "+--------+----+--------+------+----+----------+\n",
      "|    日期|城市|    姓名|  性别|年龄|  编程语言|\n",
      "|2021-9-1|北京|   lijun|  male|  21|      Java|\n",
      "|2021-9-1|北京| linhong|female|  20|    Python|\n",
      "|2021-9-1|长沙|   libai|  male|  27|       C++|\n",
      "|2021-9-1|武汉|   hujun|  male|  24|      Java|\n",
      "|2021-9-1|上海|    libo|  male|  29|    Python|\n",
      "|2021-9-1|长沙|  zouwei|  male|  23|     Spark|\n",
      "|2021-9-1|武汉| xiaolin|female|  29|      Java|\n",
      "|2021-9-1|北京| liuhong|female|  20|    Python|\n",
      "|2021-9-2|北京| liuqian|female|  21|    Python|\n",
      "|2021-9-2|北京| daiming|  male|  24|     Spark|\n",
      "|2021-9-2|上海|wangjing|female|  22|      Java|\n",
      "|2021-9-2|广州|  chenli|  male|  26|    Python|\n",
      "|2021-9-2|深圳|zhangwei|  male|  28|       C++|\n",
      "|2021-9-2|成都|   lixia|female|  23|JavaScript|\n",
      "|2021-9-2|重庆| zhoumin|female|  25|        Go|\n",
      "|2021-9-2|杭州| sunyang|  male|  30|TypeScript|\n",
      "|2021-9-2|南京|   liwen|female|  24|       PHP|\n",
      "|2021-9-3|西安| wangjun|  male|  27|     Swift|\n",
      "|2021-9-3|天津|  zhaoyi|female|  22|    Kotlin|\n",
      "+--------+----+--------+------+----+----------+\n",
      "only showing top 20 rows\n",
      "\n",
      "+--------+----+--------+------+----+----------+\n",
      "|     _c0| _c1|     _c2|   _c3| _c4|       _c5|\n",
      "+--------+----+--------+------+----+----------+\n",
      "|    日期|城市|    姓名|  性别|年龄|  编程语言|\n",
      "|2021-9-1|北京|   lijun|  male|  21|      Java|\n",
      "|2021-9-1|北京| linhong|female|  20|    Python|\n",
      "|2021-9-1|长沙|   libai|  male|  27|       C++|\n",
      "|2021-9-1|武汉|   hujun|  male|  24|      Java|\n",
      "|2021-9-1|上海|    libo|  male|  29|    Python|\n",
      "|2021-9-1|长沙|  zouwei|  male|  23|     Spark|\n",
      "|2021-9-1|武汉| xiaolin|female|  29|      Java|\n",
      "|2021-9-1|北京| liuhong|female|  20|    Python|\n",
      "|2021-9-2|北京| liuqian|female|  21|    Python|\n",
      "|2021-9-2|北京| daiming|  male|  24|     Spark|\n",
      "|2021-9-2|上海|wangjing|female|  22|      Java|\n",
      "|2021-9-2|广州|  chenli|  male|  26|    Python|\n",
      "|2021-9-2|深圳|zhangwei|  male|  28|       C++|\n",
      "|2021-9-2|成都|   lixia|female|  23|JavaScript|\n",
      "|2021-9-2|重庆| zhoumin|female|  25|        Go|\n",
      "|2021-9-2|杭州| sunyang|  male|  30|TypeScript|\n",
      "|2021-9-2|南京|   liwen|female|  24|       PHP|\n",
      "|2021-9-3|西安| wangjun|  male|  27|     Swift|\n",
      "|2021-9-3|天津|  zhaoyi|female|  22|    Kotlin|\n",
      "+--------+----+--------+------+----+----------+\n",
      "only showing top 20 rows\n",
      "\n"
     ]
    }
   ],
   "source": [
    "#将csv文件读取并创建DataFrame#\n",
    "df = spark.read.csv(\"./用户访问日志文件部分数据.csv\", encoding=\"utf-8\")\n",
    "df.show()\n",
    "#另一种写法#\n",
    "df = spark.read.format(\"csv\").option(\"ecoding=\",\"UTF-8\").load('./用户访问日志文件部分数据.csv')\n",
    "df.show()"
   ]
  }
 ],
 "metadata": {
  "kernelspec": {
   "display_name": "pyspark",
   "language": "python",
   "name": "python3"
  },
  "language_info": {
   "codemirror_mode": {
    "name": "ipython",
    "version": 3
   },
   "file_extension": ".py",
   "mimetype": "text/x-python",
   "name": "python",
   "nbconvert_exporter": "python",
   "pygments_lexer": "ipython3",
   "version": "3.9.21"
  }
 },
 "nbformat": 4,
 "nbformat_minor": 5
}
