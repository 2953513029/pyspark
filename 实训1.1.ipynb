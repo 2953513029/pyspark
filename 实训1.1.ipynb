{
 "cells": [
  {
   "cell_type": "code",
   "execution_count": 1,
   "id": "d9332111",
   "metadata": {},
   "outputs": [],
   "source": [
    "from pyspark import SparkContext\n",
    "from pyspark import SparkConf\n",
    "from pyspark.sql.session import SparkSession\n",
    "from pyspark.sql import SparkSession\n",
    "from pyspark.sql import Row\n",
    "from pyspark.sql import column\n",
    "#添加注释#\n",
    "conf=SparkConf().setAppName(\"test\").setMaster(\"local[*]\")\n",
    "sc=SparkContext.getOrCreate(conf)\n",
    "spark=SparkSession(sc)"
   ]
  },
  {
   "cell_type": "code",
   "execution_count": 4,
   "id": "268a7e5c",
   "metadata": {},
   "outputs": [
    {
     "name": "stdout",
     "output_type": "stream",
     "text": [
      "+--------+----+-------+------+----+--------+\n",
      "|     _c0| _c1|    _c2|   _c3| _c4|     _c5|\n",
      "+--------+----+-------+------+----+--------+\n",
      "|    日期|城市|   姓名|  性别|年龄|编程语言|\n",
      "|2021-9-1|北京|  lijun|  male|  21|    Java|\n",
      "|2021-9-1|北京|linhong|female|  20|  Python|\n",
      "|2021-9-1|长沙|  libai|  male|  27|     C++|\n",
      "|2021-9-1|武汉|  hujun|  male|  24|    Java|\n",
      "|2021-9-1|上海|   libo|  male|  29|  Python|\n",
      "|2021-9-1|长沙| zouwei|  male|  23|   Spark|\n",
      "|2021-9-1|武汉|xiaolin|female|  29|    Java|\n",
      "|2021-9-1|北京|liuhong|female|  20|  Python|\n",
      "|2021-9-2|北京|liuqian|female|  21|  Python|\n",
      "|2021-9-2|北京|daiming|  male|  24|   Spark|\n",
      "+--------+----+-------+------+----+--------+\n",
      "\n"
     ]
    }
   ],
   "source": [
    "df = spark.read.format('csv').load(\"用户访问日志文件部分数据.csv\")\n",
    "df.show()"
   ]
  }
 ],
 "metadata": {
  "kernelspec": {
   "display_name": "pyspark",
   "language": "python",
   "name": "python3"
  },
  "language_info": {
   "codemirror_mode": {
    "name": "ipython",
    "version": 3
   },
   "file_extension": ".py",
   "mimetype": "text/x-python",
   "name": "python",
   "nbconvert_exporter": "python",
   "pygments_lexer": "ipython3",
   "version": "3.11.11"
  }
 },
 "nbformat": 4,
 "nbformat_minor": 5
}
