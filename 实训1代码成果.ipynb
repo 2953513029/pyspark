{
 "cells": [
  {
   "cell_type": "markdown",
   "id": "d77a7470",
   "metadata": {},
   "source": [
    "# 冉瑞淮"
   ]
  },
  {
   "cell_type": "code",
   "execution_count": 79,
   "id": "dcf44581",
   "metadata": {},
   "outputs": [],
   "source": [
    "from pyspark import SparkContext\n",
    "from pyspark import SparkConf\n",
    "from pyspark.sql.session import SparkSession\n",
    "from pyspark.sql import SparkSession\n",
    "from pyspark.sql import Row\n",
    "from pyspark.sql import column\n",
    "#添加注释#\n",
    "conf=SparkConf().setAppName(\"test\").setMaster(\"local[*]\")\n",
    "sc=SparkContext.getOrCreate(conf)\n",
    "spark=SparkSession(sc)"
   ]
  },
  {
   "cell_type": "markdown",
   "id": "f8d9c957",
   "metadata": {},
   "source": [
    "# 陶博 \n",
    "# 通过csv文件创建dataframe的两种写法"
   ]
  },
  {
   "cell_type": "code",
   "execution_count": 80,
   "id": "268a7e5c",
   "metadata": {},
   "outputs": [
    {
     "name": "stdout",
     "output_type": "stream",
     "text": [
      "+----------+----+----+------+----+----------+\n",
      "|       _c0| _c1| _c2|   _c3| _c4|       _c5|\n",
      "+----------+----+----+------+----+----------+\n",
      "|      日期|城市|姓名|  性别|年龄|  编程语言|\n",
      "|2021-10-30|西安|刘涛|  male|  34|       PHP|\n",
      "|2021-09-13|天津|杨超|  male|  43|        Go|\n",
      "|2021-09-21|北京|王超|  male|  39|     Swift|\n",
      "|2021-09-12|深圳|张慧|female|  21|      Rust|\n",
      "|2021-09-27|上海|杨伟|  male|  20|    Python|\n",
      "|2021-10-14|长沙|刘涛|  male|  35|TypeScript|\n",
      "|2021-10-01|南京|王伟|  male|  40|     Swift|\n",
      "|2021-09-07|西安|赵丽|female|  44|        Go|\n",
      "|2021-09-05|南京|周磊|  male|  38|      Java|\n",
      "|2021-10-31|苏州|王磊|  male|  40|    Python|\n",
      "|2021-09-26|广州|杨磊|  male|  41|    Kotlin|\n",
      "|2021-09-22|苏州|吴敏|female|  44|     Swift|\n",
      "|2021-10-09|苏州|黄静|female|  35|       PHP|\n",
      "|2021-10-23|杭州|陈慧|female|  18|      Java|\n",
      "|2021-09-15|长沙|张军|  male|  21|      Ruby|\n",
      "|2021-09-19|北京|杨勇|  male|  28|    Kotlin|\n",
      "|2021-09-29|杭州|王芳|female|  35|     Swift|\n",
      "|2021-09-16|深圳|陈洋|  male|  43|TypeScript|\n",
      "|2021-10-09|长沙|赵婷|female|  26|    Kotlin|\n",
      "|2021-10-31|南京|周峰|  male|  28|       C++|\n",
      "|2021-10-18|北京|杨娜|female|  42|       C++|\n",
      "|2021-09-08|杭州|杨军|  male|  42|        Go|\n",
      "|2021-10-04|苏州|李洋|  male|  26|      Ruby|\n",
      "|2021-10-03|武汉|陈勇|  male|  19|      Java|\n",
      "|2021-09-22|西安|杨峰|  male|  37|      Rust|\n",
      "|2021-09-21|天津|张伟|  male|  41|     Swift|\n",
      "|2021-09-22|长沙|赵涛|  male|  22|       PHP|\n",
      "|2021-09-17|深圳|吴艳|female|  45|    Python|\n",
      "|2021-09-23|上海|赵敏|female|  41|      Java|\n",
      "|2021-09-05|重庆|张涛|  male|  35|      Ruby|\n",
      "|2021-09-25|长沙|李婷|female|  31|    Kotlin|\n",
      "|2021-10-25|深圳|杨峰|  male|  44|JavaScript|\n",
      "|2021-10-12|南京|张娜|female|  22|TypeScript|\n",
      "|2021-09-24|深圳|陈娟|female|  24|      Ruby|\n",
      "|2021-09-07|广州|张伟|  male|  41|      Ruby|\n",
      "|2021-10-03|重庆|李明|  male|  32|     Swift|\n",
      "|2021-10-07|天津|李军|  male|  25|TypeScript|\n",
      "|2021-09-18|成都|陈伟|  male|  31|    Python|\n",
      "|2021-10-05|天津|陈玲|female|  40|     Swift|\n",
      "|2021-09-04|苏州|刘艳|female|  36|      Java|\n",
      "|2021-09-24|南京|张强|  male|  20|    Python|\n",
      "|2021-09-29|重庆|吴强|  male|  22|      Rust|\n",
      "|2021-09-20|武汉|周涛|  male|  22|      Java|\n",
      "|2021-10-16|南京|李勇|  male|  43|     Swift|\n",
      "|2021-09-13|西安|赵强|  male|  21|       PHP|\n",
      "|2021-09-05|长沙|周静|female|  33|     Swift|\n",
      "|2021-09-11|重庆|黄婷|female|  36|     Swift|\n",
      "|2021-09-23|上海|刘军|  male|  44|        Go|\n",
      "|2021-10-24|南京|张勇|  male|  21|        Go|\n",
      "|2021-10-30|北京|吴玲|female|  38|        Go|\n",
      "|2021-10-23|上海|王超|  male|  36|     Swift|\n",
      "|2021-10-24|天津|刘婷|female|  37|      Java|\n",
      "|2021-09-21|天津|黄超|  male|  25|    Python|\n",
      "|2021-10-15|深圳|吴丽|female|  31|        Go|\n",
      "|2021-10-25|成都|吴军|  male|  22|      Rust|\n",
      "|2021-09-09|广州|周峰|  male|  37|        Go|\n",
      "|2021-09-11|苏州|张军|  male|  33|    Python|\n",
      "|2021-09-24|上海|周洋|  male|  38|       C++|\n",
      "|2021-10-11|重庆|赵娜|female|  44|      Rust|\n",
      "|2021-09-17|重庆|周敏|female|  30|       C++|\n",
      "|2021-09-18|苏州|陈娟|female|  43|    Kotlin|\n",
      "|2021-10-06|武汉|黄慧|female|  20|    Kotlin|\n",
      "|2021-10-31|北京|李玲|female|  19|JavaScript|\n",
      "|2021-10-03|上海|赵磊|  male|  25|      Rust|\n",
      "|2021-09-20|长沙|周勇|  male|  23|     Swift|\n",
      "|2021-09-19|北京|李军|  male|  32|    Python|\n",
      "|2021-10-28|重庆|黄玲|female|  29|JavaScript|\n",
      "|2021-10-07|杭州|周艳|female|  33|       PHP|\n",
      "|2021-10-01|重庆|张慧|female|  39|      Rust|\n",
      "|2021-10-20|天津|李涛|  male|  23|TypeScript|\n",
      "|2021-10-17|长沙|周明|  male|  21|      Ruby|\n",
      "|2021-09-03|天津|王军|  male|  40|      Rust|\n",
      "|2021-10-22|苏州|刘军|  male|  29|TypeScript|\n",
      "|2021-09-18|长沙|周芳|female|  25|       C++|\n",
      "|2021-10-21|南京|吴敏|female|  35|      Rust|\n",
      "|2021-09-14|北京|杨艳|female|  42|      Rust|\n",
      "|2021-09-29|深圳|刘伟|  male|  42|      Rust|\n",
      "|2021-09-28|西安|黄静|female|  19|TypeScript|\n",
      "|2021-09-11|西安|周峰|  male|  22|JavaScript|\n",
      "|2021-09-04|杭州|张玲|female|  31|      Rust|\n",
      "|2021-10-02|苏州|张娜|female|  33|JavaScript|\n",
      "|2021-10-02|广州|吴磊|  male|  22|       PHP|\n",
      "|2021-09-28|南京|张涛|  male|  22|      Java|\n",
      "|2021-09-12|北京|刘婷|female|  19|     Swift|\n",
      "|2021-09-21|天津|周勇|  male|  26|     Swift|\n",
      "|2021-10-07|杭州|赵峰|  male|  26|JavaScript|\n",
      "|2021-09-11|北京|周强|  male|  23|TypeScript|\n",
      "|2021-10-08|长沙|周强|  male|  37|       C++|\n",
      "|2021-09-14|杭州|王超|  male|  43|    Python|\n",
      "|2021-09-20|重庆|杨洋|  male|  40|    Python|\n",
      "|2021-09-28|天津|李芳|female|  25|JavaScript|\n",
      "|2021-10-17|广州|周静|female|  32|        Go|\n",
      "|2021-09-17|杭州|杨军|  male|  41|    Kotlin|\n",
      "|2021-09-21|北京|杨洋|  male|  33|     Swift|\n",
      "|2021-09-22|天津|赵伟|  male|  26|        Go|\n",
      "|2021-09-20|南京|周敏|female|  24|    Kotlin|\n",
      "|2021-10-16|上海|张伟|  male|  19|        Go|\n",
      "|2021-10-16|深圳|李强|  male|  42|     Swift|\n",
      "|2021-09-05|武汉|赵芳|female|  31|TypeScript|\n",
      "+----------+----+----+------+----+----------+\n",
      "only showing top 100 rows\n",
      "\n",
      "+----------+----+----+------+----+----------+\n",
      "|       _c0| _c1| _c2|   _c3| _c4|       _c5|\n",
      "+----------+----+----+------+----+----------+\n",
      "|      日期|城市|姓名|  性别|年龄|  编程语言|\n",
      "|2021-10-30|西安|刘涛|  male|  34|       PHP|\n",
      "|2021-09-13|天津|杨超|  male|  43|        Go|\n",
      "|2021-09-21|北京|王超|  male|  39|     Swift|\n",
      "|2021-09-12|深圳|张慧|female|  21|      Rust|\n",
      "|2021-09-27|上海|杨伟|  male|  20|    Python|\n",
      "|2021-10-14|长沙|刘涛|  male|  35|TypeScript|\n",
      "|2021-10-01|南京|王伟|  male|  40|     Swift|\n",
      "|2021-09-07|西安|赵丽|female|  44|        Go|\n",
      "|2021-09-05|南京|周磊|  male|  38|      Java|\n",
      "|2021-10-31|苏州|王磊|  male|  40|    Python|\n",
      "|2021-09-26|广州|杨磊|  male|  41|    Kotlin|\n",
      "|2021-09-22|苏州|吴敏|female|  44|     Swift|\n",
      "|2021-10-09|苏州|黄静|female|  35|       PHP|\n",
      "|2021-10-23|杭州|陈慧|female|  18|      Java|\n",
      "|2021-09-15|长沙|张军|  male|  21|      Ruby|\n",
      "|2021-09-19|北京|杨勇|  male|  28|    Kotlin|\n",
      "|2021-09-29|杭州|王芳|female|  35|     Swift|\n",
      "|2021-09-16|深圳|陈洋|  male|  43|TypeScript|\n",
      "|2021-10-09|长沙|赵婷|female|  26|    Kotlin|\n",
      "|2021-10-31|南京|周峰|  male|  28|       C++|\n",
      "|2021-10-18|北京|杨娜|female|  42|       C++|\n",
      "|2021-09-08|杭州|杨军|  male|  42|        Go|\n",
      "|2021-10-04|苏州|李洋|  male|  26|      Ruby|\n",
      "|2021-10-03|武汉|陈勇|  male|  19|      Java|\n",
      "|2021-09-22|西安|杨峰|  male|  37|      Rust|\n",
      "|2021-09-21|天津|张伟|  male|  41|     Swift|\n",
      "|2021-09-22|长沙|赵涛|  male|  22|       PHP|\n",
      "|2021-09-17|深圳|吴艳|female|  45|    Python|\n",
      "|2021-09-23|上海|赵敏|female|  41|      Java|\n",
      "|2021-09-05|重庆|张涛|  male|  35|      Ruby|\n",
      "|2021-09-25|长沙|李婷|female|  31|    Kotlin|\n",
      "|2021-10-25|深圳|杨峰|  male|  44|JavaScript|\n",
      "|2021-10-12|南京|张娜|female|  22|TypeScript|\n",
      "|2021-09-24|深圳|陈娟|female|  24|      Ruby|\n",
      "|2021-09-07|广州|张伟|  male|  41|      Ruby|\n",
      "|2021-10-03|重庆|李明|  male|  32|     Swift|\n",
      "|2021-10-07|天津|李军|  male|  25|TypeScript|\n",
      "|2021-09-18|成都|陈伟|  male|  31|    Python|\n",
      "|2021-10-05|天津|陈玲|female|  40|     Swift|\n",
      "|2021-09-04|苏州|刘艳|female|  36|      Java|\n",
      "|2021-09-24|南京|张强|  male|  20|    Python|\n",
      "|2021-09-29|重庆|吴强|  male|  22|      Rust|\n",
      "|2021-09-20|武汉|周涛|  male|  22|      Java|\n",
      "|2021-10-16|南京|李勇|  male|  43|     Swift|\n",
      "|2021-09-13|西安|赵强|  male|  21|       PHP|\n",
      "|2021-09-05|长沙|周静|female|  33|     Swift|\n",
      "|2021-09-11|重庆|黄婷|female|  36|     Swift|\n",
      "|2021-09-23|上海|刘军|  male|  44|        Go|\n",
      "|2021-10-24|南京|张勇|  male|  21|        Go|\n",
      "|2021-10-30|北京|吴玲|female|  38|        Go|\n",
      "|2021-10-23|上海|王超|  male|  36|     Swift|\n",
      "|2021-10-24|天津|刘婷|female|  37|      Java|\n",
      "|2021-09-21|天津|黄超|  male|  25|    Python|\n",
      "|2021-10-15|深圳|吴丽|female|  31|        Go|\n",
      "|2021-10-25|成都|吴军|  male|  22|      Rust|\n",
      "|2021-09-09|广州|周峰|  male|  37|        Go|\n",
      "|2021-09-11|苏州|张军|  male|  33|    Python|\n",
      "|2021-09-24|上海|周洋|  male|  38|       C++|\n",
      "|2021-10-11|重庆|赵娜|female|  44|      Rust|\n",
      "|2021-09-17|重庆|周敏|female|  30|       C++|\n",
      "|2021-09-18|苏州|陈娟|female|  43|    Kotlin|\n",
      "|2021-10-06|武汉|黄慧|female|  20|    Kotlin|\n",
      "|2021-10-31|北京|李玲|female|  19|JavaScript|\n",
      "|2021-10-03|上海|赵磊|  male|  25|      Rust|\n",
      "|2021-09-20|长沙|周勇|  male|  23|     Swift|\n",
      "|2021-09-19|北京|李军|  male|  32|    Python|\n",
      "|2021-10-28|重庆|黄玲|female|  29|JavaScript|\n",
      "|2021-10-07|杭州|周艳|female|  33|       PHP|\n",
      "|2021-10-01|重庆|张慧|female|  39|      Rust|\n",
      "|2021-10-20|天津|李涛|  male|  23|TypeScript|\n",
      "|2021-10-17|长沙|周明|  male|  21|      Ruby|\n",
      "|2021-09-03|天津|王军|  male|  40|      Rust|\n",
      "|2021-10-22|苏州|刘军|  male|  29|TypeScript|\n",
      "|2021-09-18|长沙|周芳|female|  25|       C++|\n",
      "|2021-10-21|南京|吴敏|female|  35|      Rust|\n",
      "|2021-09-14|北京|杨艳|female|  42|      Rust|\n",
      "|2021-09-29|深圳|刘伟|  male|  42|      Rust|\n",
      "|2021-09-28|西安|黄静|female|  19|TypeScript|\n",
      "|2021-09-11|西安|周峰|  male|  22|JavaScript|\n",
      "|2021-09-04|杭州|张玲|female|  31|      Rust|\n",
      "|2021-10-02|苏州|张娜|female|  33|JavaScript|\n",
      "|2021-10-02|广州|吴磊|  male|  22|       PHP|\n",
      "|2021-09-28|南京|张涛|  male|  22|      Java|\n",
      "|2021-09-12|北京|刘婷|female|  19|     Swift|\n",
      "|2021-09-21|天津|周勇|  male|  26|     Swift|\n",
      "|2021-10-07|杭州|赵峰|  male|  26|JavaScript|\n",
      "|2021-09-11|北京|周强|  male|  23|TypeScript|\n",
      "|2021-10-08|长沙|周强|  male|  37|       C++|\n",
      "|2021-09-14|杭州|王超|  male|  43|    Python|\n",
      "|2021-09-20|重庆|杨洋|  male|  40|    Python|\n",
      "|2021-09-28|天津|李芳|female|  25|JavaScript|\n",
      "|2021-10-17|广州|周静|female|  32|        Go|\n",
      "|2021-09-17|杭州|杨军|  male|  41|    Kotlin|\n",
      "|2021-09-21|北京|杨洋|  male|  33|     Swift|\n",
      "|2021-09-22|天津|赵伟|  male|  26|        Go|\n",
      "|2021-09-20|南京|周敏|female|  24|    Kotlin|\n",
      "|2021-10-16|上海|张伟|  male|  19|        Go|\n",
      "|2021-10-16|深圳|李强|  male|  42|     Swift|\n",
      "|2021-09-05|武汉|赵芳|female|  31|TypeScript|\n",
      "+----------+----+----+------+----+----------+\n",
      "only showing top 100 rows\n",
      "\n"
     ]
    }
   ],
   "source": [
    "#将csv文件读取并创建DataFrame#\n",
    "df = spark.read.csv(\"./用户访问日志文件部分数据.csv\", encoding=\"utf-8\")\n",
    "df.show(100)\n",
    "#另一种写法#\n",
    "df = spark.read.format(\"csv\").option(\"ecoding=\",\"UTF-8\").load('./用户访问日志文件部分数据.csv')\n",
    "df.show(100)"
   ]
  },
  {
   "cell_type": "markdown",
   "id": "69721503",
   "metadata": {},
   "source": [
    "# 刘倩\n",
    "# show的用法 "
   ]
  },
  {
   "cell_type": "code",
   "execution_count": 81,
   "id": "665287c6",
   "metadata": {},
   "outputs": [
    {
     "name": "stdout",
     "output_type": "stream",
     "text": [
      "+----------+----+----+------+----+----------+\n",
      "|       _c0| _c1| _c2|   _c3| _c4|       _c5|\n",
      "+----------+----+----+------+----+----------+\n",
      "|      日期|城市|姓名|  性别|年龄|  编程语言|\n",
      "|2021-10-30|西安|刘涛|  male|  34|       PHP|\n",
      "|2021-09-13|天津|杨超|  male|  43|        Go|\n",
      "|2021-09-21|北京|王超|  male|  39|     Swift|\n",
      "|2021-09-12|深圳|张慧|female|  21|      Rust|\n",
      "|2021-09-27|上海|杨伟|  male|  20|    Python|\n",
      "|2021-10-14|长沙|刘涛|  male|  35|TypeScript|\n",
      "|2021-10-01|南京|王伟|  male|  40|     Swift|\n",
      "|2021-09-07|西安|赵丽|female|  44|        Go|\n",
      "|2021-09-05|南京|周磊|  male|  38|      Java|\n",
      "|2021-10-31|苏州|王磊|  male|  40|    Python|\n",
      "|2021-09-26|广州|杨磊|  male|  41|    Kotlin|\n",
      "|2021-09-22|苏州|吴敏|female|  44|     Swift|\n",
      "|2021-10-09|苏州|黄静|female|  35|       PHP|\n",
      "|2021-10-23|杭州|陈慧|female|  18|      Java|\n",
      "|2021-09-15|长沙|张军|  male|  21|      Ruby|\n",
      "|2021-09-19|北京|杨勇|  male|  28|    Kotlin|\n",
      "|2021-09-29|杭州|王芳|female|  35|     Swift|\n",
      "|2021-09-16|深圳|陈洋|  male|  43|TypeScript|\n",
      "|2021-10-09|长沙|赵婷|female|  26|    Kotlin|\n",
      "+----------+----+----+------+----+----------+\n",
      "only showing top 20 rows\n",
      "\n"
     ]
    }
   ],
   "source": [
    "df.show()         #默认20行"
   ]
  },
  {
   "cell_type": "code",
   "execution_count": 82,
   "id": "6d2119b3",
   "metadata": {},
   "outputs": [
    {
     "name": "stdout",
     "output_type": "stream",
     "text": [
      "+----------+----+----+----+----+--------+\n",
      "|       _c0| _c1| _c2| _c3| _c4|     _c5|\n",
      "+----------+----+----+----+----+--------+\n",
      "|      日期|城市|姓名|性别|年龄|编程语言|\n",
      "|2021-10-30|西安|刘涛|male|  34|     PHP|\n",
      "|2021-09-13|天津|杨超|male|  43|      Go|\n",
      "+----------+----+----+----+----+--------+\n",
      "only showing top 3 rows\n",
      "\n"
     ]
    }
   ],
   "source": [
    "df.show(3) #只显示前面三行"
   ]
  },
  {
   "cell_type": "code",
   "execution_count": 83,
   "id": "58b7d542",
   "metadata": {},
   "outputs": [
    {
     "name": "stdout",
     "output_type": "stream",
     "text": [
      "+----------+----+----+------+----+----------+\n",
      "|_c0       |_c1 |_c2 |_c3   |_c4 |_c5       |\n",
      "+----------+----+----+------+----+----------+\n",
      "|日期      |城市|姓名|性别  |年龄|编程语言  |\n",
      "|2021-10-30|西安|刘涛|male  |34  |PHP       |\n",
      "|2021-09-13|天津|杨超|male  |43  |Go        |\n",
      "|2021-09-21|北京|王超|male  |39  |Swift     |\n",
      "|2021-09-12|深圳|张慧|female|21  |Rust      |\n",
      "|2021-09-27|上海|杨伟|male  |20  |Python    |\n",
      "|2021-10-14|长沙|刘涛|male  |35  |TypeScript|\n",
      "|2021-10-01|南京|王伟|male  |40  |Swift     |\n",
      "|2021-09-07|西安|赵丽|female|44  |Go        |\n",
      "|2021-09-05|南京|周磊|male  |38  |Java      |\n",
      "|2021-10-31|苏州|王磊|male  |40  |Python    |\n",
      "|2021-09-26|广州|杨磊|male  |41  |Kotlin    |\n",
      "|2021-09-22|苏州|吴敏|female|44  |Swift     |\n",
      "|2021-10-09|苏州|黄静|female|35  |PHP       |\n",
      "|2021-10-23|杭州|陈慧|female|18  |Java      |\n",
      "|2021-09-15|长沙|张军|male  |21  |Ruby      |\n",
      "|2021-09-19|北京|杨勇|male  |28  |Kotlin    |\n",
      "|2021-09-29|杭州|王芳|female|35  |Swift     |\n",
      "|2021-09-16|深圳|陈洋|male  |43  |TypeScript|\n",
      "|2021-10-09|长沙|赵婷|female|26  |Kotlin    |\n",
      "+----------+----+----+------+----+----------+\n",
      "only showing top 20 rows\n",
      "\n"
     ]
    }
   ],
   "source": [
    "df.show(truncate=False)    #完整显示所有字段"
   ]
  },
  {
   "cell_type": "code",
   "execution_count": 84,
   "id": "b7e5af60",
   "metadata": {},
   "outputs": [
    {
     "name": "stdout",
     "output_type": "stream",
     "text": [
      "+----------+----+----+------+----+----------+\n",
      "|       _c0| _c1| _c2|   _c3| _c4|       _c5|\n",
      "+----------+----+----+------+----+----------+\n",
      "|      日期|城市|姓名|  性别|年龄|  编程语言|\n",
      "|2021-10-30|西安|刘涛|  male|  34|       PHP|\n",
      "|2021-09-13|天津|杨超|  male|  43|        Go|\n",
      "|2021-09-21|北京|王超|  male|  39|     Swift|\n",
      "|2021-09-12|深圳|张慧|female|  21|      Rust|\n",
      "|2021-09-27|上海|杨伟|  male|  20|    Python|\n",
      "|2021-10-14|长沙|刘涛|  male|  35|TypeScript|\n",
      "|2021-10-01|南京|王伟|  male|  40|     Swift|\n",
      "|2021-09-07|西安|赵丽|female|  44|        Go|\n",
      "|2021-09-05|南京|周磊|  male|  38|      Java|\n",
      "|2021-10-31|苏州|王磊|  male|  40|    Python|\n",
      "|2021-09-26|广州|杨磊|  male|  41|    Kotlin|\n",
      "|2021-09-22|苏州|吴敏|female|  44|     Swift|\n",
      "|2021-10-09|苏州|黄静|female|  35|       PHP|\n",
      "|2021-10-23|杭州|陈慧|female|  18|      Java|\n",
      "|2021-09-15|长沙|张军|  male|  21|      Ruby|\n",
      "|2021-09-19|北京|杨勇|  male|  28|    Kotlin|\n",
      "|2021-09-29|杭州|王芳|female|  35|     Swift|\n",
      "|2021-09-16|深圳|陈洋|  male|  43|TypeScript|\n",
      "|2021-10-09|长沙|赵婷|female|  26|    Kotlin|\n",
      "+----------+----+----+------+----+----------+\n",
      "only showing top 20 rows\n",
      "\n"
     ]
    }
   ],
   "source": [
    "df.show(truncate=10)   #最多显示10个字符"
   ]
  },
  {
   "cell_type": "code",
   "execution_count": 85,
   "id": "9881266b",
   "metadata": {},
   "outputs": [
    {
     "name": "stdout",
     "output_type": "stream",
     "text": [
      "-RECORD 0---------\n",
      " _c0 | 日期       \n",
      " _c1 | 城市       \n",
      " _c2 | 姓名       \n",
      " _c3 | 性别       \n",
      " _c4 | 年龄       \n",
      " _c5 | 编程语言   \n",
      "-RECORD 1---------\n",
      " _c0 | 2021-10-30 \n",
      " _c1 | 西安       \n",
      " _c2 | 刘涛       \n",
      " _c3 | male       \n",
      " _c4 | 34         \n",
      " _c5 | PHP        \n",
      "-RECORD 2---------\n",
      " _c0 | 2021-09-13 \n",
      " _c1 | 天津       \n",
      " _c2 | 杨超       \n",
      " _c3 | male       \n",
      " _c4 | 43         \n",
      " _c5 | Go         \n",
      "-RECORD 3---------\n",
      " _c0 | 2021-09-21 \n",
      " _c1 | 北京       \n",
      " _c2 | 王超       \n",
      " _c3 | male       \n",
      " _c4 | 39         \n",
      " _c5 | Swift      \n",
      "-RECORD 4---------\n",
      " _c0 | 2021-09-12 \n",
      " _c1 | 深圳       \n",
      " _c2 | 张慧       \n",
      " _c3 | female     \n",
      " _c4 | 21         \n",
      " _c5 | Rust       \n",
      "-RECORD 5---------\n",
      " _c0 | 2021-09-27 \n",
      " _c1 | 上海       \n",
      " _c2 | 杨伟       \n",
      " _c3 | male       \n",
      " _c4 | 20         \n",
      " _c5 | Python     \n",
      "-RECORD 6---------\n",
      " _c0 | 2021-10-14 \n",
      " _c1 | 长沙       \n",
      " _c2 | 刘涛       \n",
      " _c3 | male       \n",
      " _c4 | 35         \n",
      " _c5 | TypeScript \n",
      "-RECORD 7---------\n",
      " _c0 | 2021-10-01 \n",
      " _c1 | 南京       \n",
      " _c2 | 王伟       \n",
      " _c3 | male       \n",
      " _c4 | 40         \n",
      " _c5 | Swift      \n",
      "-RECORD 8---------\n",
      " _c0 | 2021-09-07 \n",
      " _c1 | 西安       \n",
      " _c2 | 赵丽       \n",
      " _c3 | female     \n",
      " _c4 | 44         \n",
      " _c5 | Go         \n",
      "-RECORD 9---------\n",
      " _c0 | 2021-09-05 \n",
      " _c1 | 南京       \n",
      " _c2 | 周磊       \n",
      " _c3 | male       \n",
      " _c4 | 38         \n",
      " _c5 | Java       \n",
      "-RECORD 10--------\n",
      " _c0 | 2021-10-31 \n",
      " _c1 | 苏州       \n",
      " _c2 | 王磊       \n",
      " _c3 | male       \n",
      " _c4 | 40         \n",
      " _c5 | Python     \n",
      "-RECORD 11--------\n",
      " _c0 | 2021-09-26 \n",
      " _c1 | 广州       \n",
      " _c2 | 杨磊       \n",
      " _c3 | male       \n",
      " _c4 | 41         \n",
      " _c5 | Kotlin     \n",
      "-RECORD 12--------\n",
      " _c0 | 2021-09-22 \n",
      " _c1 | 苏州       \n",
      " _c2 | 吴敏       \n",
      " _c3 | female     \n",
      " _c4 | 44         \n",
      " _c5 | Swift      \n",
      "-RECORD 13--------\n",
      " _c0 | 2021-10-09 \n",
      " _c1 | 苏州       \n",
      " _c2 | 黄静       \n",
      " _c3 | female     \n",
      " _c4 | 35         \n",
      " _c5 | PHP        \n",
      "-RECORD 14--------\n",
      " _c0 | 2021-10-23 \n",
      " _c1 | 杭州       \n",
      " _c2 | 陈慧       \n",
      " _c3 | female     \n",
      " _c4 | 18         \n",
      " _c5 | Java       \n",
      "-RECORD 15--------\n",
      " _c0 | 2021-09-15 \n",
      " _c1 | 长沙       \n",
      " _c2 | 张军       \n",
      " _c3 | male       \n",
      " _c4 | 21         \n",
      " _c5 | Ruby       \n",
      "-RECORD 16--------\n",
      " _c0 | 2021-09-19 \n",
      " _c1 | 北京       \n",
      " _c2 | 杨勇       \n",
      " _c3 | male       \n",
      " _c4 | 28         \n",
      " _c5 | Kotlin     \n",
      "-RECORD 17--------\n",
      " _c0 | 2021-09-29 \n",
      " _c1 | 杭州       \n",
      " _c2 | 王芳       \n",
      " _c3 | female     \n",
      " _c4 | 35         \n",
      " _c5 | Swift      \n",
      "-RECORD 18--------\n",
      " _c0 | 2021-09-16 \n",
      " _c1 | 深圳       \n",
      " _c2 | 陈洋       \n",
      " _c3 | male       \n",
      " _c4 | 43         \n",
      " _c5 | TypeScript \n",
      "-RECORD 19--------\n",
      " _c0 | 2021-10-09 \n",
      " _c1 | 长沙       \n",
      " _c2 | 赵婷       \n",
      " _c3 | female     \n",
      " _c4 | 26         \n",
      " _c5 | Kotlin     \n",
      "only showing top 20 rows\n",
      "\n"
     ]
    }
   ],
   "source": [
    "df.show(vertical=True)  #字典一样分行显示字段和值"
   ]
  },
  {
   "cell_type": "code",
   "execution_count": 86,
   "id": "45f572f7",
   "metadata": {},
   "outputs": [
    {
     "name": "stdout",
     "output_type": "stream",
     "text": [
      "-RECORD 0---------\n",
      " _c0 | 日期       \n",
      " _c1 | 城市       \n",
      " _c2 | 姓名       \n",
      " _c3 | 性别       \n",
      " _c4 | 年龄       \n",
      " _c5 | 编程语言   \n",
      "-RECORD 1---------\n",
      " _c0 | 2021-10-30 \n",
      " _c1 | 西安       \n",
      " _c2 | 刘涛       \n",
      " _c3 | male       \n",
      " _c4 | 34         \n",
      " _c5 | PHP        \n",
      "only showing top 2 rows\n",
      "\n"
     ]
    }
   ],
   "source": [
    "df.show(2,truncate=False,vertical=True)  #显示前面2行，不截断"
   ]
  },
  {
   "cell_type": "code",
   "execution_count": 87,
   "id": "55238434",
   "metadata": {},
   "outputs": [
    {
     "name": "stdout",
     "output_type": "stream",
     "text": [
      "+----------+----+----+------+----+--------+\n",
      "|       _c0| _c1| _c2|   _c3| _c4|     _c5|\n",
      "+----------+----+----+------+----+--------+\n",
      "|      日期|城市|姓名|  性别|年龄|编程语言|\n",
      "|2021-10-30|西安|刘涛|  male|  34|     PHP|\n",
      "|2021-09-13|天津|杨超|  male|  43|      Go|\n",
      "|2021-09-21|北京|王超|  male|  39|   Swift|\n",
      "|2021-09-12|深圳|张慧|female|  21|    Rust|\n",
      "+----------+----+----+------+----+--------+\n",
      "\n"
     ]
    }
   ],
   "source": [
    "df.head(5) #显示前5行\n",
    "df.limit(5).show()  #直接显示\n",
    "\n",
    "from pyspark.sql.functions import desc  #显示最后5行 排序"
   ]
  },
  {
   "cell_type": "code",
   "execution_count": 88,
   "id": "7f7e04d1",
   "metadata": {},
   "outputs": [
    {
     "data": {
      "text/html": [
       "<div>\n",
       "<style scoped>\n",
       "    .dataframe tbody tr th:only-of-type {\n",
       "        vertical-align: middle;\n",
       "    }\n",
       "\n",
       "    .dataframe tbody tr th {\n",
       "        vertical-align: top;\n",
       "    }\n",
       "\n",
       "    .dataframe thead th {\n",
       "        text-align: right;\n",
       "    }\n",
       "</style>\n",
       "<table border=\"1\" class=\"dataframe\">\n",
       "  <thead>\n",
       "    <tr style=\"text-align: right;\">\n",
       "      <th></th>\n",
       "      <th>_c0</th>\n",
       "      <th>_c1</th>\n",
       "      <th>_c2</th>\n",
       "      <th>_c3</th>\n",
       "      <th>_c4</th>\n",
       "      <th>_c5</th>\n",
       "    </tr>\n",
       "  </thead>\n",
       "  <tbody>\n",
       "    <tr>\n",
       "      <th>0</th>\n",
       "      <td>日期</td>\n",
       "      <td>城市</td>\n",
       "      <td>姓名</td>\n",
       "      <td>性别</td>\n",
       "      <td>年龄</td>\n",
       "      <td>编程语言</td>\n",
       "    </tr>\n",
       "    <tr>\n",
       "      <th>1</th>\n",
       "      <td>2021-10-30</td>\n",
       "      <td>西安</td>\n",
       "      <td>刘涛</td>\n",
       "      <td>male</td>\n",
       "      <td>34</td>\n",
       "      <td>PHP</td>\n",
       "    </tr>\n",
       "    <tr>\n",
       "      <th>2</th>\n",
       "      <td>2021-09-13</td>\n",
       "      <td>天津</td>\n",
       "      <td>杨超</td>\n",
       "      <td>male</td>\n",
       "      <td>43</td>\n",
       "      <td>Go</td>\n",
       "    </tr>\n",
       "    <tr>\n",
       "      <th>3</th>\n",
       "      <td>2021-09-21</td>\n",
       "      <td>北京</td>\n",
       "      <td>王超</td>\n",
       "      <td>male</td>\n",
       "      <td>39</td>\n",
       "      <td>Swift</td>\n",
       "    </tr>\n",
       "    <tr>\n",
       "      <th>4</th>\n",
       "      <td>2021-09-12</td>\n",
       "      <td>深圳</td>\n",
       "      <td>张慧</td>\n",
       "      <td>female</td>\n",
       "      <td>21</td>\n",
       "      <td>Rust</td>\n",
       "    </tr>\n",
       "    <tr>\n",
       "      <th>5</th>\n",
       "      <td>2021-09-27</td>\n",
       "      <td>上海</td>\n",
       "      <td>杨伟</td>\n",
       "      <td>male</td>\n",
       "      <td>20</td>\n",
       "      <td>Python</td>\n",
       "    </tr>\n",
       "    <tr>\n",
       "      <th>6</th>\n",
       "      <td>2021-10-14</td>\n",
       "      <td>长沙</td>\n",
       "      <td>刘涛</td>\n",
       "      <td>male</td>\n",
       "      <td>35</td>\n",
       "      <td>TypeScript</td>\n",
       "    </tr>\n",
       "    <tr>\n",
       "      <th>7</th>\n",
       "      <td>2021-10-01</td>\n",
       "      <td>南京</td>\n",
       "      <td>王伟</td>\n",
       "      <td>male</td>\n",
       "      <td>40</td>\n",
       "      <td>Swift</td>\n",
       "    </tr>\n",
       "    <tr>\n",
       "      <th>8</th>\n",
       "      <td>2021-09-07</td>\n",
       "      <td>西安</td>\n",
       "      <td>赵丽</td>\n",
       "      <td>female</td>\n",
       "      <td>44</td>\n",
       "      <td>Go</td>\n",
       "    </tr>\n",
       "    <tr>\n",
       "      <th>9</th>\n",
       "      <td>2021-09-05</td>\n",
       "      <td>南京</td>\n",
       "      <td>周磊</td>\n",
       "      <td>male</td>\n",
       "      <td>38</td>\n",
       "      <td>Java</td>\n",
       "    </tr>\n",
       "  </tbody>\n",
       "</table>\n",
       "</div>"
      ],
      "text/plain": [
       "          _c0 _c1 _c2     _c3 _c4         _c5\n",
       "0          日期  城市  姓名      性别  年龄        编程语言\n",
       "1  2021-10-30  西安  刘涛    male  34         PHP\n",
       "2  2021-09-13  天津  杨超    male  43          Go\n",
       "3  2021-09-21  北京  王超    male  39       Swift\n",
       "4  2021-09-12  深圳  张慧  female  21        Rust\n",
       "5  2021-09-27  上海  杨伟    male  20      Python\n",
       "6  2021-10-14  长沙  刘涛    male  35  TypeScript\n",
       "7  2021-10-01  南京  王伟    male  40       Swift\n",
       "8  2021-09-07  西安  赵丽  female  44          Go\n",
       "9  2021-09-05  南京  周磊    male  38        Java"
      ]
     },
     "execution_count": 88,
     "metadata": {},
     "output_type": "execute_result"
    }
   ],
   "source": [
    "df.limit(10).toPandas()  #转为pandas表格"
   ]
  },
  {
   "cell_type": "code",
   "execution_count": 89,
   "id": "0dcab944",
   "metadata": {},
   "outputs": [
    {
     "name": "stdout",
     "output_type": "stream",
     "text": [
      "+----------+----+----+------+---+----------+\n",
      "|       _c0| _c1| _c2|   _c3|_c4|       _c5|\n",
      "+----------+----+----+------+---+----------+\n",
      "|2021-10-30|西安|刘涛|  male| 34|       PHP|\n",
      "|2021-09-13|天津|杨超|  male| 43|        Go|\n",
      "|2021-09-21|北京|王超|  male| 39|     Swift|\n",
      "|2021-09-12|深圳|张慧|female| 21|      Rust|\n",
      "|2021-09-27|上海|杨伟|  male| 20|    Python|\n",
      "|2021-10-14|长沙|刘涛|  male| 35|TypeScript|\n",
      "|2021-10-01|南京|王伟|  male| 40|     Swift|\n",
      "|2021-09-07|西安|赵丽|female| 44|        Go|\n",
      "|2021-09-05|南京|周磊|  male| 38|      Java|\n",
      "|2021-10-31|苏州|王磊|  male| 40|    Python|\n",
      "|2021-09-26|广州|杨磊|  male| 41|    Kotlin|\n",
      "|2021-09-22|苏州|吴敏|female| 44|     Swift|\n",
      "|2021-10-09|苏州|黄静|female| 35|       PHP|\n",
      "|2021-10-23|杭州|陈慧|female| 18|      Java|\n",
      "|2021-09-15|长沙|张军|  male| 21|      Ruby|\n",
      "|2021-09-19|北京|杨勇|  male| 28|    Kotlin|\n",
      "|2021-09-29|杭州|王芳|female| 35|     Swift|\n",
      "|2021-09-16|深圳|陈洋|  male| 43|TypeScript|\n",
      "|2021-10-09|长沙|赵婷|female| 26|    Kotlin|\n",
      "|2021-10-31|南京|周峰|  male| 28|       C++|\n",
      "+----------+----+----+------+---+----------+\n",
      "only showing top 20 rows\n",
      "\n"
     ]
    }
   ],
   "source": [
    "df.filter(df._c4 > 17).show()  #显示年龄大于17"
   ]
  },
  {
   "cell_type": "markdown",
   "id": "bb362390",
   "metadata": {},
   "source": [
    "# 杨苏艳\n",
    "# count的用法"
   ]
  },
  {
   "cell_type": "code",
   "execution_count": 90,
   "id": "93d9483a",
   "metadata": {},
   "outputs": [
    {
     "name": "stdout",
     "output_type": "stream",
     "text": [
      "总行数: 1001\n"
     ]
    }
   ],
   "source": [
    "total_count = df.count()\n",
    "print(f\"总行数: {total_count}\")    # 输出: 总行数: 1001"
   ]
  },
  {
   "cell_type": "code",
   "execution_count": 91,
   "id": "c84656e8",
   "metadata": {},
   "outputs": [
    {
     "name": "stdout",
     "output_type": "stream",
     "text": [
      "年龄大于30的人数: 539\n"
     ]
    }
   ],
   "source": [
    "#使用条件来统计人数\n",
    "# 计算满足条件的行数\n",
    "above_30 = df.filter(df._c4 > 30).count()\n",
    "print(f\"年龄大于30的人数: {above_30}\")  # 输出: 年龄大于30的人数: 550"
   ]
  },
  {
   "cell_type": "code",
   "execution_count": 92,
   "id": "85fd2a96",
   "metadata": {},
   "outputs": [
    {
     "name": "stdout",
     "output_type": "stream",
     "text": [
      "+----+-----+\n",
      "| _c4|count|\n",
      "+----+-----+\n",
      "|  29|   28|\n",
      "|  42|   46|\n",
      "|  30|   32|\n",
      "|  34|   44|\n",
      "|  28|   36|\n",
      "|  22|   39|\n",
      "|  35|   37|\n",
      "|NULL|    8|\n",
      "|  43|   28|\n",
      "|  31|   31|\n",
      "|  18|   41|\n",
      "|  27|   38|\n",
      "|  26|   33|\n",
      "|  19|   34|\n",
      "|  41|   31|\n",
      "|  23|   42|\n",
      "|年龄|    1|\n",
      "|  40|   31|\n",
      "|  38|   31|\n",
      "|  25|   25|\n",
      "+----+-----+\n",
      "only showing top 20 rows\n",
      "\n"
     ]
    }
   ],
   "source": [
    "#使用分组来统计人数\n",
    "from pyspark.sql.functions import count\n",
    "\n",
    "# 按年龄分组并计算每组的数量\n",
    "age_counts = df.groupBy(\"_c4\").agg(count(\"_c2\").alias(\"count\"))\n",
    "age_counts.show()"
   ]
  },
  {
   "cell_type": "code",
   "execution_count": 93,
   "id": "4e51d5f3",
   "metadata": {},
   "outputs": [
    {
     "name": "stdout",
     "output_type": "stream",
     "text": [
      "不同年龄的数量: 30\n"
     ]
    }
   ],
   "source": [
    "# 计算某列不同值的数量\n",
    "distinct_count = df.select(\"_c4\").distinct().count()\n",
    "print(f\"不同年龄的数量: {distinct_count}\")"
   ]
  },
  {
   "cell_type": "code",
   "execution_count": 94,
   "id": "2febbfc7",
   "metadata": {},
   "outputs": [
    {
     "name": "stdout",
     "output_type": "stream",
     "text": [
      "+------+----+-----+\n",
      "|   _c3| _c4|count|\n",
      "+------+----+-----+\n",
      "|  male|  45|   10|\n",
      "|  male|  26|   20|\n",
      "|female|  23|   14|\n",
      "|  male|  25|   16|\n",
      "|female|  40|   17|\n",
      "|female|  19|   14|\n",
      "|female|  43|   11|\n",
      "|female|  35|   22|\n",
      "|  male|  44|   16|\n",
      "|female|  45|   22|\n",
      "|female|  28|   17|\n",
      "|female|  20|   12|\n",
      "|female|  25|    9|\n",
      "|female|NULL|    4|\n",
      "|female|  29|   12|\n",
      "|female|  38|   17|\n",
      "|  male|  23|   28|\n",
      "|female|  39|   24|\n",
      "|female|  32|   19|\n",
      "|female|  24|   20|\n",
      "+------+----+-----+\n",
      "only showing top 20 rows\n",
      "\n"
     ]
    }
   ],
   "source": [
    "# 多列分组计数\n",
    "# 按性别和年龄分组计数\n",
    "multi_counts = df.groupBy(\"_c3\", \"_c4\").count()\n",
    "multi_counts.show()"
   ]
  },
  {
   "cell_type": "code",
   "execution_count": 95,
   "id": "b88985dc",
   "metadata": {},
   "outputs": [
    {
     "name": "stdout",
     "output_type": "stream",
     "text": [
      "不同年龄的数量: 30\n"
     ]
    }
   ],
   "source": [
    "# 去重计数\n",
    "# 统计不同年龄的数量\n",
    "distinct_age_count = df.select(\"_c4\").distinct().count()\n",
    "print(f\"不同年龄的数量: {distinct_age_count}\")"
   ]
  },
  {
   "cell_type": "code",
   "execution_count": 96,
   "id": "e6c47d5e",
   "metadata": {},
   "outputs": [
    {
     "name": "stdout",
     "output_type": "stream",
     "text": [
      "+------+-----+\n",
      "|   _c3|count|\n",
      "+------+-----+\n",
      "|  性别|    1|\n",
      "|female|  477|\n",
      "|  male|  523|\n",
      "+------+-----+\n",
      "\n"
     ]
    }
   ],
   "source": [
    "# 根据用户性别分组，查看用户性别人数\n",
    "region_access_counts = df.groupBy(\"_c3\").count()\n",
    "region_access_counts.show()"
   ]
  },
  {
   "cell_type": "code",
   "execution_count": 97,
   "id": "77cd452a",
   "metadata": {},
   "outputs": [
    {
     "name": "stdout",
     "output_type": "stream",
     "text": [
      "+-------------+\n",
      "|distinct_ages|\n",
      "+-------------+\n",
      "|           29|\n",
      "+-------------+\n",
      "\n"
     ]
    }
   ],
   "source": [
    "# 使用countDistinction去重统计\n",
    "from pyspark.sql.functions import countDistinct\n",
    "\n",
    "# 使用countDistinct函数\n",
    "distinct_counts = df.agg(\n",
    "    countDistinct(\"_c4\").alias(\"distinct_ages\")\n",
    ")\n",
    "distinct_counts.show()"
   ]
  },
  {
   "cell_type": "markdown",
   "id": "cf3c085c",
   "metadata": {},
   "source": [
    "# 喻梦宇\n",
    "# orderBy单列升序排序"
   ]
  },
  {
   "cell_type": "code",
   "execution_count": 98,
   "id": "a26c2cee",
   "metadata": {},
   "outputs": [
    {
     "name": "stdout",
     "output_type": "stream",
     "text": [
      "+----------+----+----+------+----+----------+\n",
      "|       _c0| _c1| _c2|   _c3| _c4|       _c5|\n",
      "+----------+----+----+------+----+----------+\n",
      "|2021-10-13|苏州|李磊|  male|NULL|      Java|\n",
      "|2021-10-06|西安|王艳|female|NULL|TypeScript|\n",
      "|2021-10-07|北京|黄磊|  male|NULL|        Go|\n",
      "|2021-10-15|杭州|黄超|  male|NULL|    Kotlin|\n",
      "|2021-10-22|苏州|黄芳|female|NULL|    Kotlin|\n",
      "|2021-09-06|重庆|赵静|female|NULL|      Rust|\n",
      "|2021-10-29|北京|赵丽|female|NULL|        Go|\n",
      "|2021-09-22|武汉|黄洋|  male|NULL|    Python|\n",
      "|2021-10-15|上海|周峰|  male|  18|     Swift|\n",
      "|2021-09-03|武汉|陈军|  male|  18|JavaScript|\n",
      "+----------+----+----+------+----+----------+\n",
      "only showing top 10 rows\n",
      "\n"
     ]
    }
   ],
   "source": [
    "df.orderBy(\"_c4\").show(10)"
   ]
  },
  {
   "cell_type": "code",
   "execution_count": 99,
   "id": "9be350a8",
   "metadata": {},
   "outputs": [
    {
     "name": "stdout",
     "output_type": "stream",
     "text": [
      "+----------+----+----+------+----+----------+\n",
      "|       _c0| _c1| _c2|   _c3| _c4|       _c5|\n",
      "+----------+----+----+------+----+----------+\n",
      "|      日期|城市|姓名|  性别|年龄|  编程语言|\n",
      "|2021-10-07|杭州|黄静|female|  45|JavaScript|\n",
      "|2021-09-09|成都|黄洋|  male|  45|    Kotlin|\n",
      "|2021-10-08|广州|赵静|female|  45|        Go|\n",
      "|2021-10-28|杭州|周艳|female|  45|       PHP|\n",
      "|2021-10-10|北京|周娜|female|  45|    Python|\n",
      "|2021-10-23|天津|赵芳|female|  45|        Go|\n",
      "|2021-10-18|成都|黄艳|female|  45|      Rust|\n",
      "|2021-10-13|长沙|杨超|  male|  45|    Kotlin|\n",
      "|2021-09-28|杭州|周涛|  male|  45|        Go|\n",
      "+----------+----+----+------+----+----------+\n",
      "only showing top 10 rows\n",
      "\n"
     ]
    }
   ],
   "source": [
    "#orderBy单列降序排序\n",
    "df.orderBy(\"_c4\", ascending=False).show(10)"
   ]
  },
  {
   "cell_type": "code",
   "execution_count": 100,
   "id": "b46b7d1d",
   "metadata": {},
   "outputs": [
    {
     "name": "stdout",
     "output_type": "stream",
     "text": [
      "+----------+----+----+------+----+----------+\n",
      "|       _c0| _c1| _c2|   _c3| _c4|       _c5|\n",
      "+----------+----+----+------+----+----------+\n",
      "|      日期|城市|姓名|  性别|年龄|  编程语言|\n",
      "|2021-10-31|西安|赵洋|  male|  18|     Swift|\n",
      "|2021-10-31|北京|李玲|female|  19|JavaScript|\n",
      "|2021-10-31|苏州|张磊|  male|  22|     Swift|\n",
      "|2021-10-31|上海|吴强|  male|  24|      Rust|\n",
      "|2021-10-31|成都|王强|  male|  27|TypeScript|\n",
      "|2021-10-31|南京|周峰|  male|  28|       C++|\n",
      "|2021-10-31|北京|赵慧|female|  28|       C++|\n",
      "|2021-10-31|广州|张艳|female|  29|       PHP|\n",
      "|2021-10-31|杭州|杨婷|female|  31|     Swift|\n",
      "+----------+----+----+------+----+----------+\n",
      "only showing top 10 rows\n",
      "\n"
     ]
    }
   ],
   "source": [
    "#orderBy使用SQL表达式排序\n",
    "#col 是 pyspark.sql.functions 模块中的一个函数，用于引用 DataFrame 的列（Column）\n",
    "from pyspark.sql.functions import col\n",
    "df.orderBy(col(\"_c0\").desc(), col(\"_c4\").asc()).show(10)"
   ]
  },
  {
   "cell_type": "code",
   "execution_count": 101,
   "id": "b4b4d3e4",
   "metadata": {},
   "outputs": [
    {
     "name": "stdout",
     "output_type": "stream",
     "text": [
      "+----------+----+----+------+---+----------+\n",
      "|       _c0| _c1| _c2|   _c3|_c4|       _c5|\n",
      "+----------+----+----+------+---+----------+\n",
      "|2021-09-01|杭州|赵娟|female| 40|        Go|\n",
      "|2021-09-01|重庆|黄慧|female| 40|      Ruby|\n",
      "|2021-09-01|重庆|周娜|female| 34|     Swift|\n",
      "|2021-09-01|南京|张勇|  male| 34|TypeScript|\n",
      "|2021-09-01|苏州|刘明|  male| 32|    Kotlin|\n",
      "|2021-09-01|成都|陈军|  male| 30|      Java|\n",
      "|2021-09-01|重庆|王明|  male| 30|      Java|\n",
      "|2021-09-01|北京|杨洋|  male| 27|      Java|\n",
      "|2021-09-01|重庆|黄芳|female| 27|      Java|\n",
      "|2021-09-01|深圳|王涛|  male| 25|       PHP|\n",
      "+----------+----+----+------+---+----------+\n",
      "only showing top 10 rows\n",
      "\n"
     ]
    }
   ],
   "source": [
    "#orderBy多列排序\n",
    "df.orderBy([\"_c0\", \"_c4\"], ascending=[True, False]).show(10)"
   ]
  },
  {
   "cell_type": "markdown",
   "id": "670c3493",
   "metadata": {},
   "source": [
    "# 贾青逾\n",
    "# groupBy的使用方法"
   ]
  },
  {
   "cell_type": "code",
   "execution_count": 102,
   "id": "654042fd",
   "metadata": {},
   "outputs": [
    {
     "data": {
      "text/plain": [
       "GroupedData[grouping expressions: [列名1, 列名2], value: [_c0: string, _c1: string ... 4 more fields], type: GroupBy]"
      ]
     },
     "execution_count": 102,
     "metadata": {},
     "output_type": "execute_result"
    }
   ],
   "source": [
    "# 基本形式\n",
    "df.groupBy('列名') # 单列分组计数\n",
    "df.groupBy('列名1','列名2')#多列分组计数"
   ]
  },
  {
   "cell_type": "code",
   "execution_count": 103,
   "id": "bb9c7919",
   "metadata": {},
   "outputs": [
    {
     "name": "stdout",
     "output_type": "stream",
     "text": [
      "+----------+-----+\n",
      "|       _c5|count|\n",
      "+----------+-----+\n",
      "|  编程语言|    1|\n",
      "|      Rust|   82|\n",
      "|JavaScript|   84|\n",
      "|       C++|   87|\n",
      "|     Swift|   96|\n",
      "|TypeScript|   92|\n",
      "|       PHP|   86|\n",
      "|    Kotlin|  105|\n",
      "|        Go|  101|\n",
      "|      Ruby|   82|\n",
      "|    Python|   93|\n",
      "|      Java|   92|\n",
      "+----------+-----+\n",
      "\n"
     ]
    }
   ],
   "source": [
    "# 单个列分组并计数\n",
    "df.groupBy(\"_c5\").count().show()"
   ]
  },
  {
   "cell_type": "code",
   "execution_count": 104,
   "id": "c18128a7",
   "metadata": {},
   "outputs": [
    {
     "name": "stdout",
     "output_type": "stream",
     "text": [
      "+----------+---+-----+\n",
      "|       _c5|_c4|count|\n",
      "+----------+---+-----+\n",
      "|      Ruby| 41|    4|\n",
      "|    Python| 31|    6|\n",
      "|       PHP| 34|    4|\n",
      "|    Kotlin| 42|    4|\n",
      "|      Java| 29|    3|\n",
      "|    Python| 37|    6|\n",
      "|        Go| 22|    4|\n",
      "|       C++| 40|    3|\n",
      "|       PHP| 19|    6|\n",
      "|     Swift| 19|    3|\n",
      "|TypeScript| 41|    2|\n",
      "|      Ruby| 26|    3|\n",
      "|JavaScript| 20|    1|\n",
      "|       PHP| 39|    3|\n",
      "|TypeScript| 39|    4|\n",
      "|       C++| 23|    3|\n",
      "|JavaScript| 18|    4|\n",
      "|JavaScript| 28|    1|\n",
      "|    Python| 45|    2|\n",
      "|      Ruby| 43|    2|\n",
      "+----------+---+-----+\n",
      "only showing top 20 rows\n",
      "\n"
     ]
    }
   ],
   "source": [
    "# 多个列分组计数\n",
    "df.groupBy(\"_c5\", \"_c4\").count().show()"
   ]
  },
  {
   "cell_type": "code",
   "execution_count": 105,
   "id": "026b9ff3",
   "metadata": {},
   "outputs": [],
   "source": [
    "# # 求和\n",
    "# df.groupBy(\"department\").sum(\"sales\")\n",
    "\n",
    "# # 最大值\n",
    "# df.groupBy(\"department\").max(\"age\")\n",
    "\n",
    "# # 最小值\n",
    "# df.groupBy(\"department\").min(\"age\")"
   ]
  },
  {
   "cell_type": "code",
   "execution_count": 106,
   "id": "c1b289a3",
   "metadata": {},
   "outputs": [
    {
     "name": "stdout",
     "output_type": "stream",
     "text": [
      "+----------+---+----+--------+\n",
      "|       _c5|_c2| avg|最大年龄|\n",
      "+----------+---+----+--------+\n",
      "|       C++| 87|NULL|    male|\n",
      "|        Go|101|NULL|    male|\n",
      "|      Java| 92|NULL|    male|\n",
      "|JavaScript| 84|NULL|    male|\n",
      "|    Kotlin|105|NULL|    male|\n",
      "|       PHP| 86|NULL|    male|\n",
      "|    Python| 93|NULL|    male|\n",
      "|      Ruby| 82|NULL|    male|\n",
      "|      Rust| 82|NULL|    male|\n",
      "|     Swift| 96|NULL|    male|\n",
      "|TypeScript| 92|NULL|    male|\n",
      "|  编程语言|  1|NULL|    性别|\n",
      "+----------+---+----+--------+\n",
      "\n"
     ]
    }
   ],
   "source": [
    "# 分组后使用不同聚合函数\n",
    "from pyspark.sql import functions as F\n",
    "\n",
    "df.groupBy(\"_c5\").agg(  F.count(\"*\").alias(\"_c2\"),\n",
    "    F.avg(\"_c3\").alias(\"avg\"),\n",
    "    F.max(\"_c3\").alias(\"最大年龄\")\n",
    ").show()"
   ]
  },
  {
   "cell_type": "code",
   "execution_count": 107,
   "id": "d8489efc",
   "metadata": {},
   "outputs": [
    {
     "name": "stdout",
     "output_type": "stream",
     "text": [
      "+----+----+\n",
      "| _c1| avg|\n",
      "+----+----+\n",
      "|南京|NULL|\n",
      "|城市|NULL|\n",
      "|长沙|NULL|\n",
      "|西安|NULL|\n",
      "|苏州|NULL|\n",
      "|杭州|NULL|\n",
      "|天津|NULL|\n",
      "|成都|NULL|\n",
      "|深圳|NULL|\n",
      "|重庆|NULL|\n",
      "|上海|NULL|\n",
      "|北京|NULL|\n",
      "|广州|NULL|\n",
      "|武汉|NULL|\n",
      "+----+----+\n",
      "\n"
     ]
    }
   ],
   "source": [
    "# 计算各城市的平均年龄\n",
    "df.groupBy(\"_c1\").agg(F.avg(\"_c3\").alias(\"avg\")).show()"
   ]
  },
  {
   "cell_type": "code",
   "execution_count": 108,
   "id": "83d98621",
   "metadata": {},
   "outputs": [
    {
     "name": "stdout",
     "output_type": "stream",
     "text": [
      "+-----------------+\n",
      "|         平均年龄|\n",
      "+-----------------+\n",
      "|31.46673387096774|\n",
      "+-----------------+\n",
      "\n"
     ]
    }
   ],
   "source": [
    "# 实训1   \n",
    "# 用户平均年龄\n",
    "\n",
    "from pyspark.sql.functions import avg\n",
    "df.agg(avg(\"_c4\").alias(\"平均年龄\")).show()   "
   ]
  },
  {
   "cell_type": "code",
   "execution_count": 109,
   "id": "07ae7bc0",
   "metadata": {},
   "outputs": [
    {
     "name": "stdout",
     "output_type": "stream",
     "text": [
      "+------+----+-------+\n",
      "|   _c3|人数|比例(%)|\n",
      "+------+----+-------+\n",
      "|  male| 523|  52.25|\n",
      "|female| 477|  47.65|\n",
      "|  性别|   1|    0.1|\n",
      "+------+----+-------+\n",
      "\n"
     ]
    }
   ],
   "source": [
    "#网站用户性别比例\n",
    "\n",
    "from pyspark.sql import SparkSession\n",
    "from pyspark.sql.functions import count, col, round\n",
    "spark = SparkSession.builder.appName(\"GenderRatio\").getOrCreate()\n",
    "gender_ratio = df.groupBy(\"_c3\") \\\n",
    "    .agg(\n",
    "        count(\"*\").alias(\"人数\"),\n",
    "        round((count(\"*\") / df.count()) * 100, 2).alias(\"比例(%)\")\n",
    "    ) \\\n",
    "    .orderBy(col(\"人数\").desc())\n",
    "gender_ratio.show()"
   ]
  },
  {
   "cell_type": "code",
   "execution_count": 110,
   "id": "76495c4e",
   "metadata": {},
   "outputs": [
    {
     "name": "stdout",
     "output_type": "stream",
     "text": [
      "+----+-----+\n",
      "| _c1|count|\n",
      "+----+-----+\n",
      "|南京|   83|\n",
      "|城市|    1|\n",
      "|长沙|   68|\n",
      "|西安|   74|\n",
      "|苏州|   64|\n",
      "|杭州|   80|\n",
      "|天津|   98|\n",
      "|成都|   81|\n",
      "|深圳|   73|\n",
      "|重庆|   73|\n",
      "|上海|   80|\n",
      "|北京|   80|\n",
      "|广州|   81|\n",
      "|武汉|   65|\n",
      "+----+-----+\n",
      "\n"
     ]
    }
   ],
   "source": [
    "# 不同地区的访问用户人数\n",
    "region_access_counts = df.groupBy(\"_c1\").count()\n",
    "region_access_counts.show()"
   ]
  },
  {
   "cell_type": "code",
   "execution_count": 111,
   "id": "30122e79",
   "metadata": {},
   "outputs": [
    {
     "name": "stdout",
     "output_type": "stream",
     "text": [
      "+----------+-----+\n",
      "|       _c5|count|\n",
      "+----------+-----+\n",
      "|    Kotlin|  105|\n",
      "|        Go|  101|\n",
      "|     Swift|   96|\n",
      "|    Python|   93|\n",
      "|TypeScript|   92|\n",
      "|      Java|   92|\n",
      "|       C++|   87|\n",
      "|       PHP|   86|\n",
      "|JavaScript|   84|\n",
      "|      Rust|   82|\n",
      "|      Ruby|   82|\n",
      "|  编程语言|    1|\n",
      "+----------+-----+\n",
      "\n"
     ]
    }
   ],
   "source": [
    "# 用户关注的技术\n",
    "from pyspark.sql import SparkSession\n",
    "from pyspark.sql.functions import col\n",
    "spark = SparkSession.builder.appName(\"LanguageCount\").getOrCreate()\n",
    "language_counts = df.groupBy(\"_c5\") \\\n",
    "                  .count() \\\n",
    "                  .orderBy(col(\"count\").desc())\n",
    "language_counts.show()"
   ]
  },
  {
   "cell_type": "code",
   "execution_count": 112,
   "id": "3a57dfac",
   "metadata": {},
   "outputs": [
    {
     "name": "stdout",
     "output_type": "stream",
     "text": [
      "各地区关注Python的人数统计:\n",
      "+----+-----+\n",
      "| _c1|count|\n",
      "+----+-----+\n",
      "|成都|   11|\n",
      "|南京|    9|\n",
      "|天津|    9|\n",
      "|北京|    9|\n",
      "|深圳|    8|\n",
      "|重庆|    8|\n",
      "|上海|    8|\n",
      "|武汉|    7|\n",
      "|杭州|    6|\n",
      "|广州|    6|\n",
      "|长沙|    5|\n",
      "|西安|    4|\n",
      "|苏州|    3|\n",
      "+----+-----+\n",
      "\n",
      "\n",
      "关注Python的总人数: 93\n"
     ]
    }
   ],
   "source": [
    "# 关注python的用户及地区\n",
    "from pyspark.sql import SparkSession\n",
    "from pyspark.sql.functions import col\n",
    "spark = SparkSession.builder.appName(\"PythonUsersByRegion\").getOrCreate()\n",
    "python_users_by_region = df.filter(col(\"_c5\") == \"Python\") \\\n",
    "                         .groupBy(\"_c1\") \\\n",
    "                         .count() \\\n",
    "                         .orderBy(col(\"count\").desc())\n",
    "\n",
    "print(\"各地区关注Python的人数统计:\")\n",
    "python_users_by_region.show()\n",
    "total_python_users = df.filter(col(\"_c5\") == \"Python\").count()\n",
    "print(f\"\\n关注Python的总人数: {total_python_users}\")"
   ]
  },
  {
   "cell_type": "markdown",
   "id": "06c3940b",
   "metadata": {},
   "source": [
    "# 樊蓉槟\n",
    "# 用dropDuplicates函数去重"
   ]
  },
  {
   "cell_type": "code",
   "execution_count": 113,
   "id": "bcdb8900",
   "metadata": {},
   "outputs": [
    {
     "name": "stdout",
     "output_type": "stream",
     "text": [
      "+----+\n",
      "| _c1|\n",
      "+----+\n",
      "|南京|\n",
      "|天津|\n",
      "|南京|\n",
      "|深圳|\n",
      "|广州|\n",
      "|西安|\n",
      "|上海|\n",
      "|长沙|\n",
      "|深圳|\n",
      "|北京|\n",
      "|长沙|\n",
      "|城市|\n",
      "+----+\n",
      "\n"
     ]
    }
   ],
   "source": [
    "#dropDuplicates是PySpark DataFrame API中的一个重要函数，用于处理数据中的重复项#\n",
    "df.dropDuplicates()\n",
    "#用dropDuplicates函数去重，用select单独列出城市一列，从而实现筛选出学习编程语言的人出自哪些城市#\n",
    "df.dropDuplicates(['_c5']).select('_c1').show()"
   ]
  },
  {
   "cell_type": "markdown",
   "id": "722c3a7d",
   "metadata": {},
   "source": [
    "# 张丙波\n",
    "# 使用summary统计"
   ]
  },
  {
   "cell_type": "code",
   "execution_count": 115,
   "id": "e3c65df5",
   "metadata": {},
   "outputs": [
    {
     "name": "stdout",
     "output_type": "stream",
     "text": [
      "+----------+--------+--------+\n",
      "|编程语言  |最小年龄|最大年龄|\n",
      "+----------+--------+--------+\n",
      "|C++       |18      |44      |\n",
      "|Go        |18      |45      |\n",
      "|Java      |18      |45      |\n",
      "|JavaScript|18      |45      |\n",
      "|Kotlin    |18      |45      |\n",
      "|PHP       |18      |45      |\n",
      "|Python    |18      |45      |\n",
      "|Ruby      |18      |45      |\n",
      "|Rust      |18      |45      |\n",
      "|Swift     |18      |45      |\n",
      "|TypeScript|18      |45      |\n",
      "+----------+--------+--------+\n",
      "\n"
     ]
    }
   ],
   "source": [
    "#统计学习编程语言年龄最小者和最大者\n",
    "\n",
    "from pyspark.sql import SparkSession\n",
    "from pyspark.sql.functions import min, max\n",
    "\n",
    "# 创建SparkSession\n",
    "spark = SparkSession.builder.appName(\"LanguageAgeAnalysis\").getOrCreate()\n",
    "\n",
    "# 读取CSV文件\n",
    "df = spark.read.csv(\"用户访问日志文件部分数据.csv\", header=True, inferSchema=True)\n",
    "\n",
    "# 按编程语言分组，计算最小和最大年龄\n",
    "age_stats = df.groupBy(\"编程语言\").agg(\n",
    "    min(\"年龄\").alias(\"最小年龄\"),\n",
    "    max(\"年龄\").alias(\"最大年龄\")\n",
    ").orderBy(\"编程语言\")\n",
    "\n",
    "# 显示结果\n",
    "age_stats.show(truncate=False)"
   ]
  },
  {
   "cell_type": "code",
   "execution_count": 116,
   "id": "d3973243",
   "metadata": {},
   "outputs": [
    {
     "name": "stdout",
     "output_type": "stream",
     "text": [
      "+-------+------------------+\n",
      "|summary|              年龄|\n",
      "+-------+------------------+\n",
      "|   mean|30.455882352941178|\n",
      "+-------+------------------+\n",
      "\n"
     ]
    }
   ],
   "source": [
    "#统计城市为长沙的平均年龄\n",
    "\n",
    "# 筛选长沙用户并使用summary()函数\n",
    "changsha_summary = df.filter(df[\"城市\"] == \"长沙\") \\\n",
    "                   .select(\"年龄\") \\\n",
    "                   .summary(\"mean\")\n",
    "\n",
    "# 显示结果\n",
    "changsha_summary.show()"
   ]
  },
  {
   "cell_type": "code",
   "execution_count": 117,
   "id": "58924bac",
   "metadata": {},
   "outputs": [
    {
     "name": "stdout",
     "output_type": "stream",
     "text": [
      "+-------+----+\n",
      "|summary|年龄|\n",
      "+-------+----+\n",
      "|    max|  44|\n",
      "+-------+----+\n",
      "\n"
     ]
    }
   ],
   "source": [
    "#统计学习C++的用户中年龄最大者\n",
    "\n",
    "from pyspark.sql import SparkSession\n",
    "\n",
    "# 创建SparkSession\n",
    "spark = SparkSession.builder.appName(\"ProgrammingLanguageAnalysis\").getOrCreate()\n",
    "\n",
    "# 读取CSV文件\n",
    "df = spark.read.csv(\"用户访问日志文件部分数据.csv\", header=True, inferSchema=True)\n",
    "\n",
    "# 筛选使用C++的用户并统计年龄\n",
    "cpp_users_stats = df.filter(df[\"编程语言\"] == \"C++\") \\\n",
    "                   .select(\"年龄\") \\\n",
    "                   .summary(\"max\")  # 只获取最大值\n",
    "\n",
    "# 显示结果\n",
    "cpp_users_stats.show()"
   ]
  },
  {
   "cell_type": "code",
   "execution_count": 118,
   "id": "f924e487",
   "metadata": {},
   "outputs": [
    {
     "name": "stdout",
     "output_type": "stream",
     "text": [
      "+-------+----+\n",
      "|summary|年龄|\n",
      "+-------+----+\n",
      "|    min|  18|\n",
      "+-------+----+\n",
      "\n"
     ]
    }
   ],
   "source": [
    "#统计学习C++的用户中年龄最小者\n",
    "from pyspark.sql import SparkSession\n",
    "\n",
    "# 创建SparkSession\n",
    "spark = SparkSession.builder.appName(\"ProgrammingLanguageAnalysis\").getOrCreate()\n",
    "\n",
    "# 读取CSV文件\n",
    "df = spark.read.csv(\"用户访问日志文件部分数据.csv\", header=True, inferSchema=True)\n",
    "\n",
    "# 筛选学习C++的用户并统计年龄信息\n",
    "cpp_users_stats = df.filter(df[\"编程语言\"] == \"C++\") \\\n",
    "                   .select(\"年龄\") \\\n",
    "                   .summary(\"min\")  # 使用summary函数获取最小值\n",
    "\n",
    "# 显示结果\n",
    "cpp_users_stats.show()"
   ]
  },
  {
   "cell_type": "code",
   "execution_count": 119,
   "id": "9a24095a",
   "metadata": {},
   "outputs": [
    {
     "name": "stdout",
     "output_type": "stream",
     "text": [
      "长沙的用户人数: 68\n"
     ]
    }
   ],
   "source": [
    "changsha_count = df.filter(col(\"城市\") == \"长沙\").count()\n",
    "print(f\"长沙的用户人数: {changsha_count}\")"
   ]
  }
 ],
 "metadata": {
  "kernelspec": {
   "display_name": "pyspark",
   "language": "python",
   "name": "python3"
  },
  "language_info": {
   "codemirror_mode": {
    "name": "ipython",
    "version": 3
   },
   "file_extension": ".py",
   "mimetype": "text/x-python",
   "name": "python",
   "nbconvert_exporter": "python",
   "pygments_lexer": "ipython3",
   "version": "3.11.11"
  }
 },
 "nbformat": 4,
 "nbformat_minor": 5
}
